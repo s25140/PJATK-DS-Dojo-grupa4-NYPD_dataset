{
 "cells": [
  {
   "cell_type": "code",
   "execution_count": 24,
   "id": "initial_id",
   "metadata": {
    "collapsed": true,
    "ExecuteTime": {
     "end_time": "2024-06-09T22:50:18.423462600Z",
     "start_time": "2024-06-09T22:50:11.935149500Z"
    }
   },
   "outputs": [
    {
     "data": {
      "text/plain": "        time_of_call vic_age_group                  vic_race vic_sex  \\\n0           09:15:00         25-44                     WHITE       F   \n1           13:04:00           NaN                       NaN       D   \n2           08:15:00           NaN                       NaN       E   \n3           21:10:00           NaN                       NaN       E   \n4           21:50:00         25-44                       NaN       F   \n...              ...           ...                       ...     ...   \n8914833     12:00:00           NaN                       NaN       F   \n8914834     17:00:00           NaN                       NaN       D   \n8914835     00:30:00         25-44  ASIAN / PACIFIC ISLANDER       F   \n8914836     20:35:00         18-24                     BLACK       F   \n8914837     17:50:00         45-64                     WHITE       F   \n\n        suspect_race suspect_sex  precinct        borough  \\\n0              WHITE           M     123.0  STATEN ISLAND   \n1                NaN         NaN       1.0      MANHATTAN   \n2              WHITE           M      18.0      MANHATTAN   \n3              WHITE           M      61.0       BROOKLYN   \n4                NaN           U      71.0       BROOKLYN   \n...              ...         ...       ...            ...   \n8914833        BLACK           M      14.0      MANHATTAN   \n8914834          NaN         NaN      19.0      MANHATTAN   \n8914835          NaN         NaN     107.0         QUEENS   \n8914836        BLACK           M      42.0          BRONX   \n8914837          NaN           M      40.0          BRONX   \n\n        location_of_occurrence                premises  \\\n0                       INSIDE         RESIDENCE-HOUSE   \n1                       INSIDE             CHAIN STORE   \n2                          NaN    TRANSIT - NYC SUBWAY   \n3                     FRONT OF                     NaN   \n4                       INSIDE  RESIDENCE - APT. HOUSE   \n...                        ...                     ...   \n8914833               FRONT OF                  STREET   \n8914834                 INSIDE  RESIDENCE - APT. HOUSE   \n8914835                    NaN                  STREET   \n8914836                 INSIDE        FOOD SUPERMARKET   \n8914837            OPPOSITE OF                  STREET   \n\n                    offence_description  \n0        CRIMINAL MISCHIEF & RELATED OF  \n1                         PETIT LARCENY  \n2        OTHER OFFENSES RELATED TO THEF  \n3                       DANGEROUS DRUGS  \n4                         HARRASSMENT 2  \n...                                 ...  \n8914833                   HARRASSMENT 2  \n8914834                        BURGLARY  \n8914835                   PETIT LARCENY  \n8914836    ASSAULT 3 & RELATED OFFENSES  \n8914837        VEHICLE AND TRAFFIC LAWS  \n\n[8914838 rows x 11 columns]",
      "text/html": "<div>\n<style scoped>\n    .dataframe tbody tr th:only-of-type {\n        vertical-align: middle;\n    }\n\n    .dataframe tbody tr th {\n        vertical-align: top;\n    }\n\n    .dataframe thead th {\n        text-align: right;\n    }\n</style>\n<table border=\"1\" class=\"dataframe\">\n  <thead>\n    <tr style=\"text-align: right;\">\n      <th></th>\n      <th>time_of_call</th>\n      <th>vic_age_group</th>\n      <th>vic_race</th>\n      <th>vic_sex</th>\n      <th>suspect_race</th>\n      <th>suspect_sex</th>\n      <th>precinct</th>\n      <th>borough</th>\n      <th>location_of_occurrence</th>\n      <th>premises</th>\n      <th>offence_description</th>\n    </tr>\n  </thead>\n  <tbody>\n    <tr>\n      <th>0</th>\n      <td>09:15:00</td>\n      <td>25-44</td>\n      <td>WHITE</td>\n      <td>F</td>\n      <td>WHITE</td>\n      <td>M</td>\n      <td>123.0</td>\n      <td>STATEN ISLAND</td>\n      <td>INSIDE</td>\n      <td>RESIDENCE-HOUSE</td>\n      <td>CRIMINAL MISCHIEF &amp; RELATED OF</td>\n    </tr>\n    <tr>\n      <th>1</th>\n      <td>13:04:00</td>\n      <td>NaN</td>\n      <td>NaN</td>\n      <td>D</td>\n      <td>NaN</td>\n      <td>NaN</td>\n      <td>1.0</td>\n      <td>MANHATTAN</td>\n      <td>INSIDE</td>\n      <td>CHAIN STORE</td>\n      <td>PETIT LARCENY</td>\n    </tr>\n    <tr>\n      <th>2</th>\n      <td>08:15:00</td>\n      <td>NaN</td>\n      <td>NaN</td>\n      <td>E</td>\n      <td>WHITE</td>\n      <td>M</td>\n      <td>18.0</td>\n      <td>MANHATTAN</td>\n      <td>NaN</td>\n      <td>TRANSIT - NYC SUBWAY</td>\n      <td>OTHER OFFENSES RELATED TO THEF</td>\n    </tr>\n    <tr>\n      <th>3</th>\n      <td>21:10:00</td>\n      <td>NaN</td>\n      <td>NaN</td>\n      <td>E</td>\n      <td>WHITE</td>\n      <td>M</td>\n      <td>61.0</td>\n      <td>BROOKLYN</td>\n      <td>FRONT OF</td>\n      <td>NaN</td>\n      <td>DANGEROUS DRUGS</td>\n    </tr>\n    <tr>\n      <th>4</th>\n      <td>21:50:00</td>\n      <td>25-44</td>\n      <td>NaN</td>\n      <td>F</td>\n      <td>NaN</td>\n      <td>U</td>\n      <td>71.0</td>\n      <td>BROOKLYN</td>\n      <td>INSIDE</td>\n      <td>RESIDENCE - APT. HOUSE</td>\n      <td>HARRASSMENT 2</td>\n    </tr>\n    <tr>\n      <th>...</th>\n      <td>...</td>\n      <td>...</td>\n      <td>...</td>\n      <td>...</td>\n      <td>...</td>\n      <td>...</td>\n      <td>...</td>\n      <td>...</td>\n      <td>...</td>\n      <td>...</td>\n      <td>...</td>\n    </tr>\n    <tr>\n      <th>8914833</th>\n      <td>12:00:00</td>\n      <td>NaN</td>\n      <td>NaN</td>\n      <td>F</td>\n      <td>BLACK</td>\n      <td>M</td>\n      <td>14.0</td>\n      <td>MANHATTAN</td>\n      <td>FRONT OF</td>\n      <td>STREET</td>\n      <td>HARRASSMENT 2</td>\n    </tr>\n    <tr>\n      <th>8914834</th>\n      <td>17:00:00</td>\n      <td>NaN</td>\n      <td>NaN</td>\n      <td>D</td>\n      <td>NaN</td>\n      <td>NaN</td>\n      <td>19.0</td>\n      <td>MANHATTAN</td>\n      <td>INSIDE</td>\n      <td>RESIDENCE - APT. HOUSE</td>\n      <td>BURGLARY</td>\n    </tr>\n    <tr>\n      <th>8914835</th>\n      <td>00:30:00</td>\n      <td>25-44</td>\n      <td>ASIAN / PACIFIC ISLANDER</td>\n      <td>F</td>\n      <td>NaN</td>\n      <td>NaN</td>\n      <td>107.0</td>\n      <td>QUEENS</td>\n      <td>NaN</td>\n      <td>STREET</td>\n      <td>PETIT LARCENY</td>\n    </tr>\n    <tr>\n      <th>8914836</th>\n      <td>20:35:00</td>\n      <td>18-24</td>\n      <td>BLACK</td>\n      <td>F</td>\n      <td>BLACK</td>\n      <td>M</td>\n      <td>42.0</td>\n      <td>BRONX</td>\n      <td>INSIDE</td>\n      <td>FOOD SUPERMARKET</td>\n      <td>ASSAULT 3 &amp; RELATED OFFENSES</td>\n    </tr>\n    <tr>\n      <th>8914837</th>\n      <td>17:50:00</td>\n      <td>45-64</td>\n      <td>WHITE</td>\n      <td>F</td>\n      <td>NaN</td>\n      <td>M</td>\n      <td>40.0</td>\n      <td>BRONX</td>\n      <td>OPPOSITE OF</td>\n      <td>STREET</td>\n      <td>VEHICLE AND TRAFFIC LAWS</td>\n    </tr>\n  </tbody>\n</table>\n<p>8914838 rows × 11 columns</p>\n</div>"
     },
     "execution_count": 24,
     "metadata": {},
     "output_type": "execute_result"
    }
   ],
   "source": [
    "import pandas as pd\n",
    "\n",
    "data = pd.read_csv('data/nyc_data.csv')\n",
    "data"
   ]
  },
  {
   "cell_type": "code",
   "execution_count": 25,
   "outputs": [
    {
     "data": {
      "text/plain": "    time_of_call vic_age_group                  vic_race vic_sex suspect_race  \\\n0       09:15:00         25-44                     WHITE       F        WHITE   \n1       13:04:00           NaN                       NaN       D          NaN   \n2       08:15:00           NaN                       NaN       E        WHITE   \n3       21:10:00           NaN                       NaN       E        WHITE   \n4       21:50:00         25-44                       NaN       F          NaN   \n..           ...           ...                       ...     ...          ...   \n495     12:00:00         18-24  ASIAN / PACIFIC ISLANDER       M          NaN   \n496     19:10:00         25-44                     BLACK       F        BLACK   \n497     00:01:00           NaN                       NaN       D          NaN   \n498     12:00:00         45-64            WHITE HISPANIC       M          NaN   \n499     14:00:00           65+                     WHITE       F          NaN   \n\n    suspect_sex  precinct        borough location_of_occurrence  \\\n0             M     123.0  STATEN ISLAND                 INSIDE   \n1           NaN       1.0      MANHATTAN                 INSIDE   \n2             M      18.0      MANHATTAN                    NaN   \n3             M      61.0       BROOKLYN               FRONT OF   \n4             U      71.0       BROOKLYN                 INSIDE   \n..          ...       ...            ...                    ...   \n495         NaN     103.0         QUEENS                 INSIDE   \n496           M     121.0  STATEN ISLAND               FRONT OF   \n497         NaN      52.0          BRONX                 INSIDE   \n498         NaN      52.0          BRONX               FRONT OF   \n499           M      77.0       BROOKLYN                 INSIDE   \n\n                     premises             offence_description  \n0             RESIDENCE-HOUSE  CRIMINAL MISCHIEF & RELATED OF  \n1                 CHAIN STORE                   PETIT LARCENY  \n2        TRANSIT - NYC SUBWAY  OTHER OFFENSES RELATED TO THEF  \n3                         NaN                 DANGEROUS DRUGS  \n4      RESIDENCE - APT. HOUSE                   HARRASSMENT 2  \n..                        ...                             ...  \n495                     OTHER                   PETIT LARCENY  \n496           RESIDENCE-HOUSE         MISCELLANEOUS PENAL LAW  \n497  TRANSIT FACILITY (OTHER)  CRIMINAL MISCHIEF & RELATED OF  \n498                    STREET                   PETIT LARCENY  \n499             PUBLIC SCHOOL         MISCELLANEOUS PENAL LAW  \n\n[500 rows x 11 columns]",
      "text/html": "<div>\n<style scoped>\n    .dataframe tbody tr th:only-of-type {\n        vertical-align: middle;\n    }\n\n    .dataframe tbody tr th {\n        vertical-align: top;\n    }\n\n    .dataframe thead th {\n        text-align: right;\n    }\n</style>\n<table border=\"1\" class=\"dataframe\">\n  <thead>\n    <tr style=\"text-align: right;\">\n      <th></th>\n      <th>time_of_call</th>\n      <th>vic_age_group</th>\n      <th>vic_race</th>\n      <th>vic_sex</th>\n      <th>suspect_race</th>\n      <th>suspect_sex</th>\n      <th>precinct</th>\n      <th>borough</th>\n      <th>location_of_occurrence</th>\n      <th>premises</th>\n      <th>offence_description</th>\n    </tr>\n  </thead>\n  <tbody>\n    <tr>\n      <th>0</th>\n      <td>09:15:00</td>\n      <td>25-44</td>\n      <td>WHITE</td>\n      <td>F</td>\n      <td>WHITE</td>\n      <td>M</td>\n      <td>123.0</td>\n      <td>STATEN ISLAND</td>\n      <td>INSIDE</td>\n      <td>RESIDENCE-HOUSE</td>\n      <td>CRIMINAL MISCHIEF &amp; RELATED OF</td>\n    </tr>\n    <tr>\n      <th>1</th>\n      <td>13:04:00</td>\n      <td>NaN</td>\n      <td>NaN</td>\n      <td>D</td>\n      <td>NaN</td>\n      <td>NaN</td>\n      <td>1.0</td>\n      <td>MANHATTAN</td>\n      <td>INSIDE</td>\n      <td>CHAIN STORE</td>\n      <td>PETIT LARCENY</td>\n    </tr>\n    <tr>\n      <th>2</th>\n      <td>08:15:00</td>\n      <td>NaN</td>\n      <td>NaN</td>\n      <td>E</td>\n      <td>WHITE</td>\n      <td>M</td>\n      <td>18.0</td>\n      <td>MANHATTAN</td>\n      <td>NaN</td>\n      <td>TRANSIT - NYC SUBWAY</td>\n      <td>OTHER OFFENSES RELATED TO THEF</td>\n    </tr>\n    <tr>\n      <th>3</th>\n      <td>21:10:00</td>\n      <td>NaN</td>\n      <td>NaN</td>\n      <td>E</td>\n      <td>WHITE</td>\n      <td>M</td>\n      <td>61.0</td>\n      <td>BROOKLYN</td>\n      <td>FRONT OF</td>\n      <td>NaN</td>\n      <td>DANGEROUS DRUGS</td>\n    </tr>\n    <tr>\n      <th>4</th>\n      <td>21:50:00</td>\n      <td>25-44</td>\n      <td>NaN</td>\n      <td>F</td>\n      <td>NaN</td>\n      <td>U</td>\n      <td>71.0</td>\n      <td>BROOKLYN</td>\n      <td>INSIDE</td>\n      <td>RESIDENCE - APT. HOUSE</td>\n      <td>HARRASSMENT 2</td>\n    </tr>\n    <tr>\n      <th>...</th>\n      <td>...</td>\n      <td>...</td>\n      <td>...</td>\n      <td>...</td>\n      <td>...</td>\n      <td>...</td>\n      <td>...</td>\n      <td>...</td>\n      <td>...</td>\n      <td>...</td>\n      <td>...</td>\n    </tr>\n    <tr>\n      <th>495</th>\n      <td>12:00:00</td>\n      <td>18-24</td>\n      <td>ASIAN / PACIFIC ISLANDER</td>\n      <td>M</td>\n      <td>NaN</td>\n      <td>NaN</td>\n      <td>103.0</td>\n      <td>QUEENS</td>\n      <td>INSIDE</td>\n      <td>OTHER</td>\n      <td>PETIT LARCENY</td>\n    </tr>\n    <tr>\n      <th>496</th>\n      <td>19:10:00</td>\n      <td>25-44</td>\n      <td>BLACK</td>\n      <td>F</td>\n      <td>BLACK</td>\n      <td>M</td>\n      <td>121.0</td>\n      <td>STATEN ISLAND</td>\n      <td>FRONT OF</td>\n      <td>RESIDENCE-HOUSE</td>\n      <td>MISCELLANEOUS PENAL LAW</td>\n    </tr>\n    <tr>\n      <th>497</th>\n      <td>00:01:00</td>\n      <td>NaN</td>\n      <td>NaN</td>\n      <td>D</td>\n      <td>NaN</td>\n      <td>NaN</td>\n      <td>52.0</td>\n      <td>BRONX</td>\n      <td>INSIDE</td>\n      <td>TRANSIT FACILITY (OTHER)</td>\n      <td>CRIMINAL MISCHIEF &amp; RELATED OF</td>\n    </tr>\n    <tr>\n      <th>498</th>\n      <td>12:00:00</td>\n      <td>45-64</td>\n      <td>WHITE HISPANIC</td>\n      <td>M</td>\n      <td>NaN</td>\n      <td>NaN</td>\n      <td>52.0</td>\n      <td>BRONX</td>\n      <td>FRONT OF</td>\n      <td>STREET</td>\n      <td>PETIT LARCENY</td>\n    </tr>\n    <tr>\n      <th>499</th>\n      <td>14:00:00</td>\n      <td>65+</td>\n      <td>WHITE</td>\n      <td>F</td>\n      <td>NaN</td>\n      <td>M</td>\n      <td>77.0</td>\n      <td>BROOKLYN</td>\n      <td>INSIDE</td>\n      <td>PUBLIC SCHOOL</td>\n      <td>MISCELLANEOUS PENAL LAW</td>\n    </tr>\n  </tbody>\n</table>\n<p>500 rows × 11 columns</p>\n</div>"
     },
     "execution_count": 25,
     "metadata": {},
     "output_type": "execute_result"
    }
   ],
   "source": [
    "sample = data.iloc[:500]\n",
    "sample"
   ],
   "metadata": {
    "collapsed": false,
    "ExecuteTime": {
     "end_time": "2024-06-09T22:50:31.041226600Z",
     "start_time": "2024-06-09T22:50:31.016184400Z"
    }
   },
   "id": "ba72886e41fa62b5"
  },
  {
   "cell_type": "code",
   "execution_count": 26,
   "outputs": [
    {
     "data": {
      "text/plain": "    time_of_call vic_age_group vic_race vic_sex suspect_race suspect_sex  \\\n0       0.386221             1        4       2            4           1   \n1       0.545581             5        6       0            6           3   \n2       0.344468             5        6       1            4           1   \n3       0.883786             5        6       1            4           1   \n4       0.911621             1        6       2            6           2   \n..           ...           ...      ...     ...          ...         ...   \n495     0.501044             0        1       4            6           3   \n496     0.800278             1        2       2            2           1   \n497     0.000696             5        6       0            6           3   \n498     0.501044             2        5       4            6           3   \n499     0.584551             3        4       2            6           1   \n\n     precinct borough location_of_occurrence premises offence_description  \n0        75.0       4                      1       27                   3  \n1         0.0       2                      1        5                  21  \n2         9.0       2                      4       34                  20  \n3        34.0       1                      0       36                   5  \n4        42.0       1                      1       25                  12  \n..        ...     ...                    ...      ...                 ...  \n495      59.0       3                      1       19                  21  \n496      73.0       4                      0       27                  14  \n497      32.0       0                      1       35                   3  \n498      32.0       0                      0       32                  21  \n499      47.0       1                      1       24                  14  \n\n[500 rows x 11 columns]",
      "text/html": "<div>\n<style scoped>\n    .dataframe tbody tr th:only-of-type {\n        vertical-align: middle;\n    }\n\n    .dataframe tbody tr th {\n        vertical-align: top;\n    }\n\n    .dataframe thead th {\n        text-align: right;\n    }\n</style>\n<table border=\"1\" class=\"dataframe\">\n  <thead>\n    <tr style=\"text-align: right;\">\n      <th></th>\n      <th>time_of_call</th>\n      <th>vic_age_group</th>\n      <th>vic_race</th>\n      <th>vic_sex</th>\n      <th>suspect_race</th>\n      <th>suspect_sex</th>\n      <th>precinct</th>\n      <th>borough</th>\n      <th>location_of_occurrence</th>\n      <th>premises</th>\n      <th>offence_description</th>\n    </tr>\n  </thead>\n  <tbody>\n    <tr>\n      <th>0</th>\n      <td>0.386221</td>\n      <td>1</td>\n      <td>4</td>\n      <td>2</td>\n      <td>4</td>\n      <td>1</td>\n      <td>75.0</td>\n      <td>4</td>\n      <td>1</td>\n      <td>27</td>\n      <td>3</td>\n    </tr>\n    <tr>\n      <th>1</th>\n      <td>0.545581</td>\n      <td>5</td>\n      <td>6</td>\n      <td>0</td>\n      <td>6</td>\n      <td>3</td>\n      <td>0.0</td>\n      <td>2</td>\n      <td>1</td>\n      <td>5</td>\n      <td>21</td>\n    </tr>\n    <tr>\n      <th>2</th>\n      <td>0.344468</td>\n      <td>5</td>\n      <td>6</td>\n      <td>1</td>\n      <td>4</td>\n      <td>1</td>\n      <td>9.0</td>\n      <td>2</td>\n      <td>4</td>\n      <td>34</td>\n      <td>20</td>\n    </tr>\n    <tr>\n      <th>3</th>\n      <td>0.883786</td>\n      <td>5</td>\n      <td>6</td>\n      <td>1</td>\n      <td>4</td>\n      <td>1</td>\n      <td>34.0</td>\n      <td>1</td>\n      <td>0</td>\n      <td>36</td>\n      <td>5</td>\n    </tr>\n    <tr>\n      <th>4</th>\n      <td>0.911621</td>\n      <td>1</td>\n      <td>6</td>\n      <td>2</td>\n      <td>6</td>\n      <td>2</td>\n      <td>42.0</td>\n      <td>1</td>\n      <td>1</td>\n      <td>25</td>\n      <td>12</td>\n    </tr>\n    <tr>\n      <th>...</th>\n      <td>...</td>\n      <td>...</td>\n      <td>...</td>\n      <td>...</td>\n      <td>...</td>\n      <td>...</td>\n      <td>...</td>\n      <td>...</td>\n      <td>...</td>\n      <td>...</td>\n      <td>...</td>\n    </tr>\n    <tr>\n      <th>495</th>\n      <td>0.501044</td>\n      <td>0</td>\n      <td>1</td>\n      <td>4</td>\n      <td>6</td>\n      <td>3</td>\n      <td>59.0</td>\n      <td>3</td>\n      <td>1</td>\n      <td>19</td>\n      <td>21</td>\n    </tr>\n    <tr>\n      <th>496</th>\n      <td>0.800278</td>\n      <td>1</td>\n      <td>2</td>\n      <td>2</td>\n      <td>2</td>\n      <td>1</td>\n      <td>73.0</td>\n      <td>4</td>\n      <td>0</td>\n      <td>27</td>\n      <td>14</td>\n    </tr>\n    <tr>\n      <th>497</th>\n      <td>0.000696</td>\n      <td>5</td>\n      <td>6</td>\n      <td>0</td>\n      <td>6</td>\n      <td>3</td>\n      <td>32.0</td>\n      <td>0</td>\n      <td>1</td>\n      <td>35</td>\n      <td>3</td>\n    </tr>\n    <tr>\n      <th>498</th>\n      <td>0.501044</td>\n      <td>2</td>\n      <td>5</td>\n      <td>4</td>\n      <td>6</td>\n      <td>3</td>\n      <td>32.0</td>\n      <td>0</td>\n      <td>0</td>\n      <td>32</td>\n      <td>21</td>\n    </tr>\n    <tr>\n      <th>499</th>\n      <td>0.584551</td>\n      <td>3</td>\n      <td>4</td>\n      <td>2</td>\n      <td>6</td>\n      <td>1</td>\n      <td>47.0</td>\n      <td>1</td>\n      <td>1</td>\n      <td>24</td>\n      <td>14</td>\n    </tr>\n  </tbody>\n</table>\n<p>500 rows × 11 columns</p>\n</div>"
     },
     "execution_count": 26,
     "metadata": {},
     "output_type": "execute_result"
    }
   ],
   "source": [
    "from sklearn.preprocessing import LabelEncoder\n",
    "from sklearn.preprocessing import MinMaxScaler\n",
    "\n",
    "\n",
    "def convert_time_to_minutes(row):\n",
    "    try:\n",
    "        temp = row.split(':')\n",
    "        return int(temp[0])*60 + int(temp[1])\n",
    "    except ValueError:\n",
    "        return None\n",
    "\n",
    "sample.loc[:, 'time_of_call'] = sample.time_of_call.apply(convert_time_to_minutes)\n",
    "\n",
    "time_normalizer = MinMaxScaler().fit(sample[['time_of_call']])\n",
    "sample.loc[:, 'time_of_call'] = time_normalizer.transform(sample[['time_of_call']])\n",
    "\n",
    "\n",
    "vic_age_encoder = LabelEncoder().fit(sample.vic_age_group)\n",
    "sample.loc[:, 'vic_age_group'] = vic_age_encoder.transform(sample.vic_age_group)\n",
    "\n",
    "vic_race_encoder = LabelEncoder().fit(sample.vic_race)\n",
    "sample.loc[:, 'vic_race'] = vic_race_encoder.transform(sample.vic_race)\n",
    "\n",
    "vic_sex_encoder = LabelEncoder().fit(sample.vic_sex)\n",
    "sample.loc[:, 'vic_sex'] = vic_sex_encoder.transform(sample.vic_sex)\n",
    "\n",
    "suspect_race_encoder = LabelEncoder().fit(sample.suspect_race)\n",
    "sample.loc[:, 'suspect_race'] = suspect_race_encoder.transform(sample.suspect_race)\n",
    "\n",
    "suspect_sex_encoder = LabelEncoder().fit(sample.suspect_sex)\n",
    "sample.loc[:, 'suspect_sex'] = suspect_sex_encoder.transform(sample.suspect_sex)\n",
    "\n",
    "precinct_encoder = LabelEncoder().fit(sample.precinct)\n",
    "sample.loc[:, 'precinct'] = precinct_encoder.transform(sample.precinct)\n",
    "\n",
    "borough_encoder = LabelEncoder().fit(sample.borough)\n",
    "sample.loc[:, 'borough'] = borough_encoder.transform(sample.borough)\n",
    "\n",
    "location_of_occurrence_encoder = LabelEncoder().fit(sample.location_of_occurrence)\n",
    "sample.loc[:, 'location_of_occurrence'] = location_of_occurrence_encoder.transform(sample.location_of_occurrence)\n",
    "\n",
    "premises_encoder = LabelEncoder().fit(sample.premises)\n",
    "sample.loc[:, 'premises'] = premises_encoder.transform(sample.premises)\n",
    "\n",
    "offence_description_encoder = LabelEncoder().fit(sample.offence_description)\n",
    "sample.loc[:, 'offence_description'] = offence_description_encoder.transform(sample.offence_description)\n",
    "\n",
    "sample"
   ],
   "metadata": {
    "collapsed": false,
    "ExecuteTime": {
     "end_time": "2024-06-09T22:50:34.132501900Z",
     "start_time": "2024-06-09T22:50:34.094265900Z"
    }
   },
   "id": "d9fae22dca5e9943"
  },
  {
   "cell_type": "code",
   "execution_count": null,
   "outputs": [],
   "source": [],
   "metadata": {
    "collapsed": false
   },
   "id": "b836b1e3dab102bc"
  }
 ],
 "metadata": {
  "kernelspec": {
   "display_name": "Python 3",
   "language": "python",
   "name": "python3"
  },
  "language_info": {
   "codemirror_mode": {
    "name": "ipython",
    "version": 2
   },
   "file_extension": ".py",
   "mimetype": "text/x-python",
   "name": "python",
   "nbconvert_exporter": "python",
   "pygments_lexer": "ipython2",
   "version": "2.7.6"
  }
 },
 "nbformat": 4,
 "nbformat_minor": 5
}
