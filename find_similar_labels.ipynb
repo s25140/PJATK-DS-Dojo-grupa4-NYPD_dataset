{
 "cells": [
  {
   "cell_type": "code",
   "execution_count": 3,
   "metadata": {},
   "outputs": [
    {
     "name": "stdout",
     "output_type": "stream",
     "text": [
      "94\n"
     ]
    }
   ],
   "source": [
    "ofns_desc_values_path = './datasets/column_values_for_clearing/ofns_desc_values.txt'\n",
    "prem_typ_values_path = './datasets/column_values_for_clearing/prem_typ_values.txt'\n",
    "with open(prem_typ_values_path) as f:\n",
    "    columns = f.read().split('\\n')\n",
    "print(len(columns))"
   ]
  },
  {
   "cell_type": "code",
   "execution_count": 4,
   "metadata": {},
   "outputs": [],
   "source": [
    "columns = {i: column for i,column in enumerate(columns)}\n",
    "columns1 = columns.copy()"
   ]
  },
  {
   "cell_type": "code",
   "execution_count": 5,
   "metadata": {},
   "outputs": [],
   "source": [
    "#Universal Sentence Encoder\n",
    "import tensorflow as tf\n",
    "from tensorflow_hub import load\n",
    "import tensorflow_text\n",
    "import numpy as np"
   ]
  },
  {
   "cell_type": "code",
   "execution_count": 6,
   "metadata": {},
   "outputs": [],
   "source": [
    "use_model = load('https://tfhub.dev/google/universal-sentence-encoder-multilingual/3')\n",
    "# Define a function to get the embeddings of the product names\n",
    "def get_embeddings(text_dict):#texts = {ID:text} \n",
    "    texts = list(text_dict.values())\n",
    "    ids = list(text_dict.keys())\n",
    "    # Create a tf.data.Dataset to load the texts in a memory-efficient way\n",
    "    dataset = tf.data.Dataset.from_tensor_slices(texts)\n",
    "    # Batch the dataset to reduce the memory required for processing the embeddings\n",
    "    dataset = dataset.batch(2048)\n",
    "    # Get the embeddings using the Universal Sentence Encoder\n",
    "    embeddings = []\n",
    "    for batch in texts:\n",
    "        batch_embeddings = use_model(batch)\n",
    "        # Convert the embeddings to float16 to reduce their size in memory\n",
    "        batch_embeddings = tf.cast(batch_embeddings, tf.float16)\n",
    "        embeddings.append(batch_embeddings)\n",
    "    embeddings = np.concatenate(embeddings)\n",
    "    embeddings_dict = {}\n",
    "    for i, embedding in enumerate(embeddings):\n",
    "        embeddings_dict[ids[i]] = embedding\n",
    "        \n",
    "    return embeddings_dict"
   ]
  },
  {
   "cell_type": "code",
   "execution_count": 7,
   "metadata": {},
   "outputs": [],
   "source": [
    "# Get the embeddings of the product names in the databases\n",
    "database1_embeddings = get_embeddings(columns)\n",
    "database2_embeddings = get_embeddings(columns1)\n",
    "\n",
    "# Compute the cosine similarity matrix between the product name embeddings\n",
    "database1_ids, database1_embeddings = zip(*database1_embeddings.items())\n",
    "database2_ids, database2_embeddings = zip(*database2_embeddings.items())\n",
    "\n",
    "cosine_similarities = np.matmul(database1_embeddings, np.transpose(database2_embeddings))\n",
    "\n",
    "# Find the most similar product names\n",
    "max_similarities = np.max(cosine_similarities, axis=1)\n",
    "max_indices = np.argmax(cosine_similarities, axis=1)"
   ]
  },
  {
   "cell_type": "code",
   "execution_count": 16,
   "metadata": {},
   "outputs": [],
   "source": [
    "threshold = 0.62#strict >= 0.84, confident > 0.75, almost all > 0.52\n",
    "\n",
    "def getTopMatches(top):\n",
    "    global WantList\n",
    "    WantList = True\n",
    "\n",
    "    top_indices = np.argsort(cosine_similarities, axis=1)[:, ::-1][:, :top]\n",
    "    top_similarities = np.sort(cosine_similarities, axis=1)[:, ::-1][:, :top]\n",
    "    matched_products = {}\n",
    "    \n",
    "    for i, id1 in enumerate(database1_ids):\n",
    "        id2_list = [database2_ids[j] for j in top_indices[i] if top_similarities[i][list(top_indices[i]).index(j)] >= threshold]\n",
    "        matched_products[id1] = id2_list\n",
    "\n",
    "    return matched_products"
   ]
  },
  {
   "cell_type": "code",
   "execution_count": 17,
   "metadata": {},
   "outputs": [
    {
     "name": "stdout",
     "output_type": "stream",
     "text": [
      "ABANDONED BUILDING ['PUBLIC BUILDING', 'COMMERCIAL BUILDING', 'BUS TERMINAL', 'DAYCARE FACILITY']\n",
      "AIRPORT TERMINAL []\n",
      "ATM []\n",
      "BANK []\n",
      "BAR/NIGHT CLUB ['SOCIAL CLUB/POLICY']\n",
      "BEAUTY & NAIL SALON ['BEAUTY/NAIL SALON']\n",
      "BEAUTY/NAIL SALON ['BEAUTY & NAIL SALON']\n",
      "BOOK/CARD []\n",
      "BRIDGE ['STREET', 'CEMETERY', 'BUS TERMINAL', 'SHOE']\n",
      "BUS (NYC TRANSIT) ['BUS (OTHER)', 'TRANSIT FACILITY (OTHER)', 'BUS STOP']\n",
      "BUS (OTHER) ['TRANSIT FACILITY (OTHER)', 'OTHER', 'BUS (NYC TRANSIT)', 'OTHER HOUSE OF WORSHIP']\n",
      "BUS STOP ['BUS TERMINAL', 'BUS (NYC TRANSIT)']\n",
      "BUS TERMINAL ['BUS STOP', 'STREET', 'REAL ESTATE', 'DEPARTMENT STORE']\n",
      "CANDY STORE []\n",
      "CEMETERY ['STREET', 'BRIDGE', 'SHOE', 'JEWELRY']\n",
      "CHAIN STORE ['VARIETY STORE', 'SHOE STORE', 'DEPT STORE', 'JEWELRY STORE']\n",
      "CHECK CASH ['CHECK CASHING BUSINESS', 'CHAIN STORE']\n",
      "CHECK CASHING BUSINESS ['CHECK CASH']\n",
      "CHURCH ['JEWELRY', 'CEMETERY', 'STREET']\n",
      "CLOTHING BOUTIQUE ['CLOTHING/BOUTIQUE', 'SHOE STORE', 'SHOE']\n",
      "CLOTHING/BOUTIQUE ['CLOTHING BOUTIQUE', 'SHOE STORE']\n",
      "COLLEGE/UNIVERSITY ['PRIVATE/PAROCHIAL SCHOOL']\n",
      "COMMERCIAL BLDG ['COMMERCIAL BUILDING', 'LOAN COMPANY']\n",
      "COMMERCIAL BUILDING ['COMMERCIAL BLDG', 'ABANDONED BUILDING', 'PUBLIC BUILDING', 'CONSTRUCTION SITE']\n",
      "CONSTRUCTION SITE ['COMMERCIAL BUILDING', 'STORAGE FACILITY', 'DEPARTMENT STORE']\n",
      "DAYCARE FACILITY ['STORAGE FACILITY', 'REAL ESTATE', 'ABANDONED BUILDING', 'VARIETY STORE']\n",
      "DEPARTMENT STORE ['DEPT STORE', 'VARIETY STORE', 'SHOE STORE', 'STORAGE FACILITY']\n",
      "DEPT STORE ['DEPARTMENT STORE', 'VARIETY STORE', 'LIQUOR STORE', 'SHOE STORE']\n",
      "DOCTOR/DENTIST ['DOCTOR/DENTIST OFFICE']\n",
      "DOCTOR/DENTIST OFFICE ['DOCTOR/DENTIST']\n",
      "DRUG STORE ['DEPT STORE', 'LIQUOR STORE', 'VARIETY STORE', 'DEPARTMENT STORE']\n",
      "DRY CLEANER/LAUNDRY ['FERRY/FERRY TERMINAL']\n",
      "FACTORY/WAREHOUSE []\n",
      "FAST FOOD ['MOBILE FOOD', 'FOOD SUPERMARKET']\n",
      "FERRY/FERRY TERMINAL ['DRY CLEANER/LAUNDRY']\n",
      "FOOD SUPERMARKET ['SUPERMARKET', 'FAST FOOD', 'MOBILE FOOD']\n",
      "GAS STATION []\n",
      "GROCERY/BODEGA []\n",
      "GYM/FITNESS FACILITY []\n",
      "HIGHWAY/PARKWAY ['PARK/PLAYGROUND']\n",
      "HOMELESS SHELTER ['JEWELRY STORE', 'VARIETY STORE', 'STORAGE FACILITY', 'SMALL MERCHANT']\n",
      "HOSPITAL []\n",
      "HOTEL/MOTEL []\n",
      "JEWELRY ['JEWELRY STORE', 'CEMETERY', 'HOMELESS SHELTER', 'CHURCH']\n",
      "JEWELRY STORE ['JEWELRY', 'VARIETY STORE', 'LIQUOR STORE', 'DEPT STORE']\n",
      "LIQUOR STORE ['VARIETY STORE', 'DEPT STORE', 'STORE UNCLASSIFIED', 'SHOE STORE']\n",
      "LOAN COMPANY ['DEPARTMENT STORE', 'COMMERCIAL BLDG', 'STORAGE FACILITY']\n",
      "MAILBOX INSIDE ['MAILBOX OUTSIDE']\n",
      "MAILBOX OUTSIDE ['MAILBOX INSIDE']\n",
      "MARINA/PIER []\n",
      "MOBILE FOOD ['FAST FOOD', 'FOOD SUPERMARKET']\n",
      "MOSQUE []\n",
      "MULTI DWELL - APT BUILD ['MULTI DWELL - PUBLIC HOUS']\n",
      "MULTI DWELL - PUBLIC HOUS ['MULTI DWELL - APT BUILD', 'RESIDENCE - PUBLIC HOUSING']\n",
      "NONE []\n",
      "(null) []\n",
      "OPEN AREAS (OPEN LOTS) []\n",
      "OTHER ['OTHER HOUSE OF WORSHIP', 'BUS (OTHER)']\n",
      "OTHER HOUSE OF WORSHIP ['OTHER', 'TRANSIT FACILITY (OTHER)', 'BUS (OTHER)']\n",
      "PARKING LOT/GARAGE (PRIVATE) ['PARKING LOT/GARAGE (PUBLIC)', 'PARK/PLAYGROUND']\n",
      "PARKING LOT/GARAGE (PUBLIC) ['PARKING LOT/GARAGE (PRIVATE)', 'PARK/PLAYGROUND']\n",
      "PARK/PLAYGROUND ['PARKING LOT/GARAGE (PRIVATE)', 'PARKING LOT/GARAGE (PUBLIC)', 'HIGHWAY/PARKWAY']\n",
      "PHOTO/COPY []\n",
      "PRIVATE/PAROCHIAL SCHOOL ['PUBLIC SCHOOL', 'COLLEGE/UNIVERSITY']\n",
      "PUBLIC BUILDING ['PUBLIC SCHOOL', 'ABANDONED BUILDING', 'COMMERCIAL BUILDING']\n",
      "PUBLIC SCHOOL ['PUBLIC BUILDING', 'SCHOOL', 'PRIVATE/PAROCHIAL SCHOOL']\n",
      "PVT HOUSE []\n",
      "REAL ESTATE ['STORAGE FACILITY', 'DEPARTMENT STORE', 'STREET', 'VARIETY STORE']\n",
      "RESIDENCE - APT. HOUSE ['RESIDENCE-HOUSE', 'RESIDENCE - PUBLIC HOUSING']\n",
      "RESIDENCE-HOUSE ['RESIDENCE - APT. HOUSE', 'RESIDENCE - PUBLIC HOUSING']\n",
      "RESIDENCE - PUBLIC HOUSING ['RESIDENCE-HOUSE', 'RESIDENCE - APT. HOUSE', 'MULTI DWELL - PUBLIC HOUS']\n",
      "RESTAURANT/DINER []\n",
      "SCHOOL ['PUBLIC SCHOOL', 'STREET', 'CEMETERY']\n",
      "SHOE ['SHOE STORE', 'STREET', 'DEPT STORE', 'DEPARTMENT STORE']\n",
      "SHOE STORE ['SHOE', 'DEPT STORE', 'CHAIN STORE', 'VARIETY STORE']\n",
      "SMALL MERCHANT ['HOMELESS SHELTER', 'SUPERMARKET', 'BUS TERMINAL', 'VARIETY STORE']\n",
      "SMOKE SHOP ['SHOE STORE', 'SHOE']\n",
      "SOCIAL CLUB/POLICY ['SOCIAL CLUB/POLICY LOCATI', 'BAR/NIGHT CLUB']\n",
      "SOCIAL CLUB/POLICY LOCATI ['SOCIAL CLUB/POLICY']\n",
      "STORAGE FACILITY ['DAYCARE FACILITY', 'DEPARTMENT STORE', 'REAL ESTATE', 'VARIETY STORE']\n",
      "STORE UNCLASSIFIED ['VARIETY STORE', 'LIQUOR STORE', 'DEPT STORE', 'DEPARTMENT STORE']\n",
      "STREET ['SHOE', 'DEPARTMENT STORE', 'BRIDGE', 'CEMETERY']\n",
      "SUPERMARKET ['FOOD SUPERMARKET', 'SMALL MERCHANT']\n",
      "SYNAGOGUE []\n",
      "TAXI (LIVERY LICENSED) ['TAXI/LIVERY (UNLICENSED)', 'TAXI (YELLOW LICENSED)']\n",
      "TAXI/LIVERY (UNLICENSED) ['TAXI (LIVERY LICENSED)', 'TAXI (YELLOW LICENSED)']\n",
      "TAXI (YELLOW LICENSED) ['TAXI (LIVERY LICENSED)', 'TAXI/LIVERY (UNLICENSED)']\n",
      "TELECOMM. STORE []\n",
      "TRAMWAY ['STREET']\n",
      "TRANSIT FACILITY (OTHER) ['BUS (OTHER)', 'BUS (NYC TRANSIT)', 'OTHER HOUSE OF WORSHIP']\n",
      "TRANSIT - NYC SUBWAY []\n",
      "TUNNEL ['STREET']\n",
      "VARIETY STORE ['DEPT STORE', 'DEPARTMENT STORE', 'LIQUOR STORE', 'JEWELRY STORE']\n",
      "VIDEO STORE ['VARIETY STORE']\n"
     ]
    }
   ],
   "source": [
    "top_matches = getTopMatches(top=5)\n",
    "for key in top_matches:\n",
    "    print(columns[key], [columns[k] for k in top_matches[key] if k != key])"
   ]
  },
  {
   "cell_type": "code",
   "execution_count": null,
   "metadata": {},
   "outputs": [],
   "source": [
    "# prem_typ_desc\n",
    "# changing to -> \n",
    "'BEAUTY & NAIL SALON','BEAUTY/NAIL SALON'\n",
    "'CHECK CASHING BUSINESS','CHECK CASH'\n",
    "'CLOTHING/BOUTIQUE', 'CLOTHING BOUTIQUE'\n",
    "'COMMERCIAL BLDG', 'COMMERCIAL BUILDING'\n",
    "'DEPARTMENT STORE', 'DEPT STORE'\n",
    "'DOCTOR/DENTIST OFFICE','DOCTOR/DENTIST'\n",
    "'FOOD SUPERMARKET','SUPERMARKET'\n",
    "'JEWELRY STORE','JEWELRY'\n",
    "'NONE',None\n",
    "'(null)',None\n",
    "'SHOE STORE','SHOE'\n",
    "'SOCIAL CLUB/POLICY LOCATI','SOCIAL CLUB/POLICY'"
   ]
  },
  {
   "cell_type": "code",
   "execution_count": null,
   "metadata": {},
   "outputs": [],
   "source": [
    "# ofns_desc\n",
    "# changing to -> \n",
    "'KIDNAPPING AND RELATED OFFENSES', 'KIDNAPPING & RELATED OFFENSES'\n",
    "'OTHER STATE LAWS (NON PENAL LA', 'OTHER STATE LAWS (NON PENAL LAW)'\n",
    "'LOITERING/DEVIATE SEX', 'SEX CRIMES'\n",
    "'FELONY SEX CRIMES', 'SEX CRIMES'\n",
    "'ADMINISTRATIVE CODE', 'ADMINISTRATIVE CODES'\n",
    "'INTOXICATED & IMPAIRED DRIVING','INTOXICATED/IMPAIRED DRIVING'\n",
    "'NYS LAWS-UNCLASSIFIED VIOLATION', 'NYS LAWS-UNCLASSIFIED FELONY'\n",
    "'ANTICIPATORY OFFENSES','OFFENSES AGAINST THE PERSON'\n",
    "'CARDS','LOITERING/GAMBLING'\n",
    "'LOITERING/GAMBLING', 'GAMBLING'\n",
    "'(null)',None\n",
    "'FRAUDULENT ACCOSTING','FRAUDS'\n",
    "'OFFENSES INVOLVING FRAUD', 'FRAUDS'\n",
    "# 'ROBBERY','BURGLARY' -- different\n",
    "# Examples:\n",
    "# Robbery: A person holding up a bank teller with a weapon and demanding money.\n",
    "# Burglary: A person breaking into a house while the occupants are away to steal valuables."
   ]
  }
 ],
 "metadata": {
  "kernelspec": {
   "display_name": "Python 3",
   "language": "python",
   "name": "python3"
  },
  "language_info": {
   "codemirror_mode": {
    "name": "ipython",
    "version": 3
   },
   "file_extension": ".py",
   "mimetype": "text/x-python",
   "name": "python",
   "nbconvert_exporter": "python",
   "pygments_lexer": "ipython3",
   "version": "3.10.6"
  }
 },
 "nbformat": 4,
 "nbformat_minor": 2
}
